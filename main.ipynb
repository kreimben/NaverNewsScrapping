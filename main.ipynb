{
 "cells": [
  {
   "cell_type": "markdown",
   "source": [
    "# 네이버 뉴스 크롤 만들기\n",
    "date: 2024-01-17\n",
    "written by: [Jehwan Kim](github.com/kreimben)"
   ],
   "metadata": {
    "collapsed": false
   },
   "id": "d835b9052494f679"
  },
  {
   "cell_type": "code",
   "outputs": [],
   "source": [
    "# !pip install -r requirements.txt --upgrade"
   ],
   "metadata": {
    "collapsed": false,
    "ExecuteTime": {
     "end_time": "2024-01-17T05:59:52.940949Z",
     "start_time": "2024-01-17T05:59:52.935523Z"
    }
   },
   "id": "3a7a296c4431c208",
   "execution_count": 1
  },
  {
   "cell_type": "code",
   "outputs": [],
   "source": [
    "import traceback\n",
    "from datetime import datetime, timedelta\n",
    "from time import sleep\n",
    "\n",
    "import pandas as pd\n",
    "import requests\n",
    "from bs4 import BeautifulSoup"
   ],
   "metadata": {
    "collapsed": false,
    "ExecuteTime": {
     "end_time": "2024-01-17T05:59:53.733944Z",
     "start_time": "2024-01-17T05:59:52.945449Z"
    }
   },
   "id": "b144cc33e0f8bd4a",
   "execution_count": 2
  },
  {
   "cell_type": "code",
   "outputs": [
    {
     "data": {
      "text/plain": "('20240115', '20240117')"
     },
     "execution_count": 3,
     "metadata": {},
     "output_type": "execute_result"
    }
   ],
   "source": [
    "end_date = datetime.now()\n",
    "start_date = end_date - timedelta(days=2)  # 최근 3일간의 데이터를 위한 설정\n",
    "\n",
    "end_date = end_date.strftime(\"%Y%m%d\")\n",
    "start_date = start_date.strftime(\"%Y%m%d\")\n",
    "\n",
    "query = '데이터분석'\n",
    "url = f\"https://search.naver.com/search.naver?where=news&query={query}&sm=tab_opt&sort=0&photo=0&field=0&reporter_article=&pd=3&ds={start_date}&de={end_date}&docid=&nso=so:r,p:from{start_date}to{end_date},a:all&mynews=0&refresh_start=0&related=0\"\n",
    "max_page = 50  # 크롤링을 원하는 최대 페이지 수 지정\n",
    "\n",
    "start_date, end_date"
   ],
   "metadata": {
    "collapsed": false,
    "ExecuteTime": {
     "end_time": "2024-01-17T05:59:53.734993Z",
     "start_time": "2024-01-17T05:59:53.732569Z"
    }
   },
   "id": "aade6d04fdef9787",
   "execution_count": 3
  },
  {
   "cell_type": "code",
   "outputs": [],
   "source": [
    "# 각 기사들의 데이터를 종류별로 나눠담을 리스트를 생성합니다. (추후 DataFrame으로 모을 예정)\n",
    "titles = []\n",
    "dates = []\n",
    "articles = []\n",
    "article_urls = []\n",
    "press_companies = []\n",
    "categories = []\n",
    "category_kind = {\n",
    "    '정치': 100, '경제': 101, '사회': 102, '생활/문화': 103, \"세계\": 104, \"IT/과학\": 105, '연예': 106, '스포츠': 107\n",
    "}\n",
    "\n",
    "# 지정한 기간 내 원하는 페이지 수만큼의 기사를 크롤링합니다.\n",
    "current_call = 1\n",
    "last_call = (max_page - 1) * 10 + 1  # max_page이 5일 경우 41에 해당 (1페이지는 url에 포함되어 있으므로 1을 빼줌)\n",
    "\n",
    "# For error rate calulation\n",
    "errors = []\n",
    "\n",
    "# For exclude duplicated articles\n",
    "visit = []"
   ],
   "metadata": {
    "collapsed": false,
    "ExecuteTime": {
     "end_time": "2024-01-17T05:59:53.735278Z",
     "start_time": "2024-01-17T05:59:53.732928Z"
    }
   },
   "id": "777a5045bb44b69",
   "execution_count": 4
  },
  {
   "cell_type": "code",
   "outputs": [
    {
     "name": "stdout",
     "output_type": "stream",
     "text": [
      "\n",
      "1번째 기사글부터 크롤링을 시작합니다.\n",
      "Processing article : 이차전지 10년 투자로 7200% 벌었다…신한證, 빅데이터 공개\n",
      "Processing article : 마약류 오남용 통합감시 시스템 구축…\"불법 사전차단\"\n",
      "Processing article : K-뷰티 견인하는 화장품 천연소재, 특허 빅데이터 분석해 찾는다\n",
      "Processing article : '체납징수' 팔걷은 정선군…\"전담반에 빅데이터 분석도\"\n",
      "Processing article : [가상자산 2024] 주기영 크립토퀀트 대표 “블록체인 데이터 분석으로 투명한 투자 정보 발굴”\n",
      "Processing article : 기업은행, 데이터본부 신설하고 신탁 등 비이자부문 강화\n",
      "\n",
      "11번째 기사글부터 크롤링을 시작합니다.\n",
      "Processing article : NIA, 빅데이터 분석 지원 수요 기업 모집\n",
      "Processing article : IBK기업은행, 데이터본부 신설…박일규·오은선 부행장 선임\n",
      "Processing article : \"데이터 사용량 분석해 최적 구간 추천\"…토스모바일, '맞춤 요금제' 출시\n",
      "Processing article : AI 데이터센터 관리솔루션 CES 선보인 SK브로드밴드\n",
      "Processing article : 소방청장 \"현장대원 생체데이터 변화, 실시간으로 수집한다\"(종합)\n",
      "Processing article : \"청신경 종양환자, '이 기법' MRI 분석땐 청각상태 예측“\n",
      "Processing article : NIA, '2024년 빅데이터 플랫폼 기반 분석서비스' 지원 수요기업 모집\n",
      "Processing article : 데이터스트림즈, 가트너 매직쿼드런트 또 등재\n",
      "\n",
      "21번째 기사글부터 크롤링을 시작합니다.\n",
      "Processing article : 글로벌 분석기관들 “기업생존 ‘생성형 AI’에 달렸다”\n",
      "Processing article : 지하철·건물 내, 데이터 잘 터지나?…SKT, 3차원 분석 기술 적용\n",
      "Processing article : AI번역 파파고, 구글 번역과 격차 확대[2023 AI앱 분석]\n",
      "Processing article : '생명공학·의학 영상 AI분석' 바이언스 시드투자 유치\n",
      "Processing article : 유비스트, 의약품 처방 기관 분석 솔루션 출시\n",
      "Processing article : “AI가 영상정보 분석해 고객에게 셀프계산대 안내”\n",
      "Processing article : 데이터 빨리 잡는 자율주행차 \"천하 잡으리\" [분석+]\n",
      "\n",
      "31번째 기사글부터 크롤링을 시작합니다.\n",
      "Processing article : 채팅봇 에이닷, 사용자수 238% 증가..뤼튼은 1~20대 [2023 AI앱 분석]\n",
      "Processing article : 방통위, 모바일 전자고지·마이데이터 서비스 법제화\n",
      "Processing article : 패션은 무신사, 교육은 콴다가 1위[2023 AI앱 분석]\n",
      "Processing article : 경기 플랫폼노동자 월평균 수입 253만원…가사·데이터입력 최저임금 이하\n",
      "\n",
      "41번째 기사글부터 크롤링을 시작합니다.\n",
      "Processing article : 엘림넷, 설문분석 AI 서비스 출시···무료 이용 가능\n",
      "Processing article : SKB, AI로 데이터센터 장애 사전에 감지\n",
      "Processing article : [산업 덮친 인구소멸]사물인터넷 키우는 통신사…데이터 활용 높여야\n",
      "\n",
      "51번째 기사글부터 크롤링을 시작합니다.\n",
      "Processing article : [투데이 窓]데이터 기반 과학기술 인재양성체계를 강화하자\n",
      "Processing article : \"소아 고형암 유전체 분석해 맞춤형 치료 목표\"\n",
      "Processing article : [KDX한국데이터거래소] 2023년, 비즈니스 인사이트 Top7 데이터는?\n",
      "Processing article : 서강대 ‘혁신, 시장과 데이터’ 경제 컨퍼런스 18일 개최\n",
      "Processing article : 식약처 공공데이터 하루 20만건 제공·활용… 방역 신뢰도 높였다[안전한 食·醫·藥, 국민건강 일군다]\n",
      "Processing article : \"데이터 편식하며 성장한 AI, 객관적 판단 기대하기엔 곤란…비판적 사고 가져야\"\n",
      "Processing article : 데이터 전문 기업, 비즈스프링 2024 AI 바우처 공급 기업으로 선정\n",
      "\n",
      "61번째 기사글부터 크롤링을 시작합니다.\n",
      "Processing article : 서강대, ‘제4회 데이터 경제 컨퍼런스’ 개최… ‘혁신, 시장과 데이터’ 주제\n",
      "Processing article : <알립니다> 빅데이터·POINT 분석… 문화일보‘총선 7대기획’\n",
      "Processing article : 금융결제원, 네트워크 탐지 및 분석 모니터링 솔루션 '엑스트라홉 리빌엑스' 추가 도입\n",
      "Processing article : '이 車' 전세계서 가장 많이 팔렸다…도요타 '초긴장' [정영효의 일본산업 분석]\n",
      "\n",
      "71번째 기사글부터 크롤링을 시작합니다.\n",
      "Processing article : [ET시론]뇌처럼 자유롭고 효율적인 데이터 연계, 꿈이 아닌 미래\n",
      "Processing article : 발달장애 도전적 행동 AI가 분석한다…대구대  ‘특수교육·재활과학 연구소’ 눈길\n",
      "Processing article : 데이터 기반한 세상, 수치로 보여주는 확률지식 중요 [반은섭의 수학을 디자인하다]\n",
      "Processing article : 빽빽한 종이문서를 내 손안의 데이터로...로민의 근거 있는 자신감[이코노 인터뷰]\n",
      "\n",
      "81번째 기사글부터 크롤링을 시작합니다.\n",
      "Processing article : 코매퍼 'AI 분석 솔루션', 폴란드 수륙양용 드론과 세계 진단시장 공동진출\n",
      "Processing article : DNA코퍼레이션, ‘CES 2024’서 DNA 분석기술 첫선\n",
      "Processing article : [올쇼TV] 엔코아 “인공지능을 활용한 데이터 분석과 활용의 가치를 향상시키는 고품질 데이터 확보 전략” 1월 25일 생방송\n",
      "Processing article : ‘AI인프라 가즈아!’ 글로벌 큰 손들, 아시아 데이터센터에 돈 다발\n",
      "\n",
      "91번째 기사글부터 크롤링을 시작합니다.\n",
      "Processing article : 제이제이앤컴퍼니스, 낙동강 어도(Fishway) 수중 생태환경 분석 시스템 구축 완료\n",
      "Processing article : 서울시 \"2년 뒤 서울 전역 지능형 CCTV\"…데이터 확보 '관건'\n",
      "\n",
      "101번째 기사글부터 크롤링을 시작합니다.\n",
      "\n",
      "111번째 기사글부터 크롤링을 시작합니다.\n",
      "Processing article : '데이터본부 신설' 기업은행, 상반기 조직개편 단행\n",
      "\n",
      "121번째 기사글부터 크롤링을 시작합니다.\n",
      "\n",
      "131번째 기사글부터 크롤링을 시작합니다.\n",
      "Processing article : 기업은행, 데이터본부 신설…신임 부행장에 박일규·오은선\n",
      "\n",
      "141번째 기사글부터 크롤링을 시작합니다.\n",
      "Processing article : EDGC, 복제수 변이 검출 AI 분석 관련 논문 국제학술지 등재\n",
      "\n",
      "151번째 기사글부터 크롤링을 시작합니다.\n",
      "\n",
      "161번째 기사글부터 크롤링을 시작합니다.\n",
      "\n",
      "171번째 기사글부터 크롤링을 시작합니다.\n",
      "\n",
      "181번째 기사글부터 크롤링을 시작합니다.\n",
      "\n",
      "191번째 기사글부터 크롤링을 시작합니다.\n",
      "\n",
      "201번째 기사글부터 크롤링을 시작합니다.\n",
      "Processing article : 한국지능정보사회진흥원, 2024 빅데이터 플랫폼 기반 데이터 분석 지원 수요기업 모집\n",
      "\n",
      "211번째 기사글부터 크롤링을 시작합니다.\n",
      "Processing article : 모바일 전자고지·마이데이터, 법적 근거 마련된다\n",
      "\n",
      "221번째 기사글부터 크롤링을 시작합니다.\n",
      "\n",
      "231번째 기사글부터 크롤링을 시작합니다.\n",
      "\n",
      "241번째 기사글부터 크롤링을 시작합니다.\n",
      "Processing article : 샌즈랩 컨소시엄, KISA 사이버보안 AI 데이터셋 구축 완료\n",
      "\n",
      "251번째 기사글부터 크롤링을 시작합니다.\n",
      "\n",
      "261번째 기사글부터 크롤링을 시작합니다.\n",
      "Processing article : 데이터스트림즈, 가트너 매직퀴드런트 아너러블 벤더 선정돼\n",
      "\n",
      "271번째 기사글부터 크롤링을 시작합니다.\n",
      "\n",
      "281번째 기사글부터 크롤링을 시작합니다.\n",
      "\n",
      "291번째 기사글부터 크롤링을 시작합니다.\n",
      "\n",
      "301번째 기사글부터 크롤링을 시작합니다.\n",
      "\n",
      "311번째 기사글부터 크롤링을 시작합니다.\n",
      "\n",
      "321번째 기사글부터 크롤링을 시작합니다.\n",
      "\n",
      "331번째 기사글부터 크롤링을 시작합니다.\n",
      "\n",
      "341번째 기사글부터 크롤링을 시작합니다.\n",
      "\n",
      "351번째 기사글부터 크롤링을 시작합니다.\n",
      "Processing article : 대세 '데이터 센터 사업'…“초미니부터 컨테이너까지”\n",
      "\n",
      "361번째 기사글부터 크롤링을 시작합니다.\n",
      "Processing article : 홈핏 '1:1 근골격계 케어', 3D 체형분석기 도입\n",
      "\n",
      "371번째 기사글부터 크롤링을 시작합니다.\n",
      "\n",
      "381번째 기사글부터 크롤링을 시작합니다.\n",
      "Processing article : 비포플레이, CES서 게임 데이터 센터 서비스·소셜미디어 플랫폼 선봬\n",
      "\n",
      "391번째 기사글부터 크롤링을 시작합니다.\n",
      "Processing article : 카카오 노조 \"모빌리티 직원 휴대폰 포렌식 중단하라\"\n",
      "Processing article : \"올해는 글로벌 R&D 혁신 원년\"…1.8조 투입하고 특위도 신설\n",
      "Processing article : \"올해 소비 트렌드는 'SPARK'…시간 대비 효율 중시\"\n",
      "Processing article : '제2의 카카오' 나올까…韓 토종 AI업계 'GPT 스토어' 눈독 들이는 이유\n",
      "Processing article : \"폐업한 부동산 간판 달고 무등록 중개\"…전세사기 중개사 대거 적발\n",
      "Processing article : 로봇에 도입되는 다양한 AI[테크트렌드]\n",
      "\n",
      "401번째 기사글부터 크롤링을 시작합니다.\n",
      "Processing article : 카카오노조, 카카오모빌리티에 직원 대상 포렌식 중단 요구\n",
      "Processing article : HLB \"리보세라닙 병용요법, 간 기능 상관 없이 효과\"\n",
      "Processing article : EDB \"올해 상용 DB에서 오픈소스로 이동 가속”\n",
      "Processing article : \"짧은 설 연휴지만 해외로\"…베트남 푸꾸옥 인기 여행지 뜨는 이유\n",
      "Processing article : NHN 일본 자회사 '테코러스', AWS와 전략적 협업 계약\n",
      "Processing article : \"결정 못 했다\" 21%에서 9%로 줄어‥신당 효과?\n",
      "Processing article : 순천시, ‘생활밀착 돌봄체계’ 구축\n",
      "\n",
      "411번째 기사글부터 크롤링을 시작합니다.\n",
      "Processing article : 카카오 노조 “카카오모빌리티, 직원 휴대전화 조사 중단하라”\n",
      "Processing article : \"올해 소비 트렌드 키워드는?\" 신한카드, `SPARK` 제시\n",
      "Processing article : 작년 개인투자자가 가장 많이 거래한 종목은…삼성전자·시큐센\n",
      "Processing article : 원주시, 올해 '6개 기업·1천억원' 투자유치 목표\n",
      "Processing article : \n",
      "\t\t\t박민영·나인우 쌍방 회귀 들통 엔딩 '내남결' 또 자체 최고\n",
      "\t\t\n",
      "*** 다음 링크의 뉴스를 크롤링하는 중 에러가 발생했습니다 : https://n.news.naver.com/mnews/article/437/0000375621?sid=106\n",
      "에러 내용 : 'NoneType' object has no attribute 'get_text'\n",
      "Traceback (most recent call last):\n",
      "  File \"/var/folders/yk/hzm_ywr95w3gr1cvnlndq5_r0000gn/T/ipykernel_81393/1915770011.py\", line 37, in <module>\n",
      "    date = source_news.find('span', {'class': 'media_end_head_info_datestamp_time'}).get_text()\n",
      "           ^^^^^^^^^^^^^^^^^^^^^^^^^^^^^^^^^^^^^^^^^^^^^^^^^^^^^^^^^^^^^^^^^^^^^^^^^^^^^^^^^^\n",
      "AttributeError: 'NoneType' object has no attribute 'get_text'\n",
      "\n",
      "Processing article : \"다중 추돌 예방\"…상습결빙구간에 '자동염수분사장치'\n",
      "\n",
      "421번째 기사글부터 크롤링을 시작합니다.\n",
      "Processing article : 카카오 노조 “카카오모빌리티의 직원 휴대전화 포렌식은 법 위반”...조사 중단 촉구\n",
      "Processing article : 신한카드가 꼽은 2024년 소비 키워드 '스파크'…무슨 뜻?\n",
      "Processing article : 대한혈관학회 회장에 배장호 건양대의료원장\n",
      "Processing article : \n",
      "\t\t\t前남친 과거 이슈론 안흔들려…'내남결' 시청률 7.8% 고공행진\n",
      "\t\t\n",
      "*** 다음 링크의 뉴스를 크롤링하는 중 에러가 발생했습니다 : https://n.news.naver.com/mnews/article/312/0000645348?sid=106\n",
      "에러 내용 : 'NoneType' object has no attribute 'get_text'\n",
      "Traceback (most recent call last):\n",
      "  File \"/var/folders/yk/hzm_ywr95w3gr1cvnlndq5_r0000gn/T/ipykernel_81393/1915770011.py\", line 37, in <module>\n",
      "    date = source_news.find('span', {'class': 'media_end_head_info_datestamp_time'}).get_text()\n",
      "           ^^^^^^^^^^^^^^^^^^^^^^^^^^^^^^^^^^^^^^^^^^^^^^^^^^^^^^^^^^^^^^^^^^^^^^^^^^^^^^^^^^\n",
      "AttributeError: 'NoneType' object has no attribute 'get_text'\n",
      "Processing article : 9000개 거래소 이동 소식에 간밤에 롤러코스터 탄 비트코인[코인브리핑]\n",
      "Processing article : 아이폰 13년만에 일냈다…지난해 출하량 1위, 얼마나 늘었길래\n",
      "Processing article : NHN 日 자회사 테코러스, AWS와 전략적 협업 계약\n",
      "Processing article : 순천시, 이웃이 이웃을 돌보는 생활밀착 돌봄체계 구축\n",
      "\n",
      "431번째 기사글부터 크롤링을 시작합니다.\n",
      "Processing article : 카카오 노조 \"모빌리티 직원 포렌식 조사 중단 요구\"\n",
      "Processing article : [총선패널조사②] 한달 사이 12%p 줄어든 '미결정층', 신당 지지자?\n",
      "Processing article : 공인중개사 2615명 조사해 429명 위반행위 적발\n",
      "Processing article : 경영수업 받는 현대해상·교보생명 '오너3세', 과제는?\n",
      "Processing article : 한은에서 왜 컴퓨터공학 전공자를 뽑을까[BOK잡담]\n",
      "Processing article : \n",
      "\t\t\t박민영 전남친 구설수 속 ‘내 남편과 결혼해줘’ 시청률 7.8% ‘승승장구’\n",
      "\t\t\n",
      "*** 다음 링크의 뉴스를 크롤링하는 중 에러가 발생했습니다 : https://n.news.naver.com/mnews/article/009/0005245811?sid=106\n",
      "에러 내용 : 'NoneType' object has no attribute 'get_text'\n",
      "Traceback (most recent call last):\n",
      "  File \"/var/folders/yk/hzm_ywr95w3gr1cvnlndq5_r0000gn/T/ipykernel_81393/1915770011.py\", line 37, in <module>\n",
      "    date = source_news.find('span', {'class': 'media_end_head_info_datestamp_time'}).get_text()\n",
      "           ^^^^^^^^^^^^^^^^^^^^^^^^^^^^^^^^^^^^^^^^^^^^^^^^^^^^^^^^^^^^^^^^^^^^^^^^^^^^^^^^^^\n",
      "AttributeError: 'NoneType' object has no attribute 'get_text'\n",
      "Processing article : 광명 공공건축물 에너지 ‘스마트하게 관리한다'\n",
      "\n",
      "441번째 기사글부터 크롤링을 시작합니다.\n",
      "Processing article : 신한투자증권 \"2차전지주 10년 넘게 보유한 고객, 수익률 7203%\"\n",
      "Processing article : 연세의료원, '디지털 치료' 첫 처방…\"20대 불면증 환자\"\n",
      "Processing article : 원주시, 올해 기업 투자유치 '6개사 1000억원' 목표\n",
      "Processing article : 웨이센, 강릉의료원과 AI 소화기 내시경 SW 확산 위해 머리 맞댄다\n",
      "Processing article : 가이온, 한국드론협회와 MOU 체결\n",
      "\n",
      "451번째 기사글부터 크롤링을 시작합니다.\n",
      "Processing article : 신한투자증권 “10년 묵힌 2차 전지주 수익률, 7203%”\n",
      "Processing article : NHN 日 기술 법인, AWS 손잡고 클라우드 사업 확장\n",
      "Processing article : 신한카드, 2024년 소비트렌드 키워드 'SPARK' 제시\n",
      "Processing article : 과기정통부, 글로벌 R&D 1조 8167억 투입 총력전\n",
      "Processing article : '지역경제 대도약의 해'…원주시, 올해 6개사·1000억 투자유치\n",
      "Processing article : 군 \"북 IRBM, 명백한 도발…미일 측과 관련 정보 긴밀 공유\"\n",
      "Processing article : [뉴스룸에서] ‘분노산업’을 어찌할 것인가\n",
      "\n",
      "461번째 기사글부터 크롤링을 시작합니다.\n",
      "Processing article : 클라우데라, 2024년 비즈니스 시장 핵심 ‘회복력’\n",
      "Processing article : 대체 왜...'프로포폴∙케타민' 하루 병원 6곳 돌며 맞은 20대女\n",
      "Processing article : \n",
      "\t\t\t‘내 남편과 결혼해줘’ 박민영, 밀키트 탐내던 송하윤·김중희에 짜릿한 한 방\n",
      "\t\t\n",
      "*** 다음 링크의 뉴스를 크롤링하는 중 에러가 발생했습니다 : https://n.news.naver.com/mnews/article/468/0001022376?sid=106\n",
      "에러 내용 : 'NoneType' object has no attribute 'get_text'\n",
      "Traceback (most recent call last):\n",
      "  File \"/var/folders/yk/hzm_ywr95w3gr1cvnlndq5_r0000gn/T/ipykernel_81393/1915770011.py\", line 37, in <module>\n",
      "    date = source_news.find('span', {'class': 'media_end_head_info_datestamp_time'}).get_text()\n",
      "           ^^^^^^^^^^^^^^^^^^^^^^^^^^^^^^^^^^^^^^^^^^^^^^^^^^^^^^^^^^^^^^^^^^^^^^^^^^^^^^^^^^\n",
      "AttributeError: 'NoneType' object has no attribute 'get_text'\n",
      "Processing article : 경북경찰, 지역사회 힘 모아 '성범죄 예방 활동' 펼친다\n",
      "\n",
      "471번째 기사글부터 크롤링을 시작합니다.\n",
      "Processing article : 식약처, 의료용 마약류 오남용 통합 감시 시스템 구축\n",
      "Processing article : \"하·폐수 관리도 AI로\"…미소정보기술, 시스템 개발 착수\n",
      "Processing article : [게시판] 무협, 제4기 디지털 마스터 과정 수강생 모집\n",
      "Processing article : 원주시 \"올해 6개 기업, 1천억원 투자 유치\"\n",
      "\n",
      "481번째 기사글부터 크롤링을 시작합니다.\n",
      "Processing article : 프로포폴 등 '마약류 의료쇼핑' 의심 환자 16명 적발·수사의뢰\n",
      "Processing article : 에이블리, 창사 5년 만에 첫 연간 흑자…“글로벌 경쟁 본격화”\n",
      "Processing article : 토스모바일, 업계 최초 '사용량 맞춤 요금제' 출시\n",
      "Processing article : 기업은행, 박일규·오은선 부행장 선임…AI 강화 등 조직개편\n",
      "\n",
      "491번째 기사글부터 크롤링을 시작합니다.\n",
      "Processing article : 중앙대병원, 에이아이트릭스와 업무협약\n",
      "Processing article : \"AI반도체 1등\"…판교 R&D 허브 조성·연구인력 2배 이상 확충\n",
      "Processing article : 원주시, 올해 6개 기업·1000억 투자유치 '총력전'\n",
      "Processing article : 직장인 행복도 41점…'\"높은 스트레스·낮은 직무 만족감 때문\"\n",
      "Processing article : 고독사, 50대 남성 최다… 10명 중 6명, 술과 함께 생 마감\n",
      "Processing article : NHN테코러스, AWS와 전략적 협업 계약…일본 시장 공략 본격화\n"
     ]
    }
   ],
   "source": [
    "while current_call <= last_call:\n",
    "\n",
    "    print('\\n{}번째 기사글부터 크롤링을 시작합니다.'.format(current_call))\n",
    "\n",
    "    url = \"https://search.naver.com/search.naver?where=news&query=\" + query \\\n",
    "          + \"&nso=so%3Ar%2Cp%3Afrom\" + start_date \\\n",
    "          + \"to\" + end_date \\\n",
    "          + \"%2Ca%3A&start=\" + str(current_call)\n",
    "\n",
    "    web = requests.get(url).content\n",
    "    source = BeautifulSoup(web, 'html.parser')\n",
    "\n",
    "    urls_list = []\n",
    "    for urls in source.find_all('a', {'class': \"info\"}):\n",
    "        if urls[\"href\"].startswith(\"https://n.news.naver.com\"):\n",
    "            urls_list.append(urls[\"href\"])\n",
    "\n",
    "    for url in urls_list:\n",
    "        # 중복 기사 제거\n",
    "        if url in visit:\n",
    "            continue\n",
    "        else:\n",
    "            visit.append(url)\n",
    "            \n",
    "        try:\n",
    "            headers = {\n",
    "                'User-Agent': 'Mozilla/5.0 (Windows NT 6.3; Win64; x64) AppleWebKit/537.36 (KHTML, like Gecko) Chrome/63.0.3239.132 Safari/537.36'}\n",
    "            web_news = requests.get(url, headers=headers).content\n",
    "            source_news = BeautifulSoup(web_news, 'html.parser')\n",
    "\n",
    "            if title := source_news.find('h2', {'class': 'media_end_head_headline'}):\n",
    "                title = title.get_text()\n",
    "            else:\n",
    "                title = source_news.find('h2', {'class': 'end_tit'}).get_text()\n",
    "            print('Processing article : {}'.format(title))\n",
    "\n",
    "            date = source_news.find('span', {'class': 'media_end_head_info_datestamp_time'}).get_text()\n",
    "\n",
    "            article = source_news.find('article', {'id': 'dic_area'}).get_text()\n",
    "            article = article.replace(\"\\n\", \"\")\n",
    "            article = article.replace(\"// flash 오류를 우회하기 위한 함수 추가function _flash_removeCallback() {}\", \"\")\n",
    "            article = article.replace(\"동영상 뉴스       \", \"\")\n",
    "            article = article.replace(\"동영상 뉴스\", \"\")\n",
    "            article = article.strip()\n",
    "\n",
    "            press_company = source_news.find('em', {'class': 'media_end_linked_more_point'}).get_text()\n",
    "\n",
    "            titles.append(title)\n",
    "            dates.append(date)\n",
    "            articles.append(article)\n",
    "            press_companies.append(press_company)\n",
    "            article_urls.append(url)\n",
    "\n",
    "            for k, v in category_kind.items():\n",
    "                find = f'sid={v}'\n",
    "                target = url\n",
    "                if find in target:\n",
    "                    categories.append(k)\n",
    "                    break\n",
    "            else:\n",
    "                categories.append('N/A')\n",
    "        except Exception as e:\n",
    "            print(f'*** 다음 링크의 뉴스를 크롤링하는 중 에러가 발생했습니다 : {url}')\n",
    "            print(f'에러 내용 : {e}')\n",
    "            print(traceback.format_exc())\n",
    "            errors.append(url)\n",
    "\n",
    "    # 대량의 데이터를 대상으로 크롤링을 할 때에는 요청 사이에 쉬어주는 타이밍을 넣는 것이 좋습니다.\n",
    "    sleep(1)\n",
    "    current_call += 10"
   ],
   "metadata": {
    "collapsed": false,
    "ExecuteTime": {
     "end_time": "2024-01-17T06:01:34.798100Z",
     "start_time": "2024-01-17T05:59:53.733256Z"
    }
   },
   "id": "2bb2bd0476edd17f",
   "execution_count": 5
  },
  {
   "cell_type": "code",
   "outputs": [
    {
     "name": "stdout",
     "output_type": "stream",
     "text": [
      "Titles: 119\n",
      "Dates: 119\n",
      "Articles: 119\n",
      "Article URLs: 119\n",
      "Press Companies: 119\n",
      "4 errors occured\n"
     ]
    }
   ],
   "source": [
    "# Dataset Length Check\n",
    "print(f'Titles: {len(titles)}')\n",
    "print(f'Dates: {len(dates)}')\n",
    "print(f'Articles: {len(articles)}')\n",
    "print(f'Article URLs: {len(article_urls)}')\n",
    "print(f'Press Companies: {len(press_companies)}')\n",
    "if not (len(titles) == len(dates) == len(articles) == len(article_urls) == len(press_companies)):\n",
    "    raise ValueError('Dataset Length is not equal')\n",
    "\n",
    "print(f'{len(errors)} errors occured')"
   ],
   "metadata": {
    "collapsed": false,
    "ExecuteTime": {
     "end_time": "2024-01-17T06:01:34.810581Z",
     "start_time": "2024-01-17T06:01:34.802772Z"
    }
   },
   "id": "761a9b0371bb170c",
   "execution_count": 6
  },
  {
   "cell_type": "code",
   "outputs": [],
   "source": [
    "# 각 데이터 종류별 list에 담아둔 전체 데이터를 DataFrame에 모으고 엑셀 파일로 저장합니다.\n",
    "# 파일명을 result_연도월일_시분.csv 로 지정합니다.\n",
    "article_df = pd.DataFrame({\n",
    "    'title': titles,\n",
    "    'date': dates,\n",
    "    'document': articles,\n",
    "    'link': article_urls,\n",
    "    'press': press_companies,\n",
    "    'category': categories\n",
    "})\n",
    "\n",
    "article_df.to_csv(f'result_from_{start_date}_end_{end_date}.csv', index=False, encoding='utf-8')"
   ],
   "metadata": {
    "collapsed": false,
    "ExecuteTime": {
     "end_time": "2024-01-17T06:01:34.817383Z",
     "start_time": "2024-01-17T06:01:34.809039Z"
    }
   },
   "id": "d3ff6f858a72c33d",
   "execution_count": 7
  },
  {
   "cell_type": "code",
   "outputs": [
    {
     "data": {
      "text/plain": "                                               title                  date  \\\n111                     토스모바일, 업계 최초 '사용량 맞춤 요금제' 출시  2024.01.15. 오전 10:16   \n13                          데이터스트림즈, 가트너 매직쿼드런트 또 등재  2024.01.15. 오전 10:23   \n114            \"AI반도체 1등\"…판교 R&D 허브 조성·연구인력 2배 이상 확충  2024.01.15. 오전 10:35   \n47   제이제이앤컴퍼니스, 낙동강 어도(Fishway) 수중 생태환경 분석 시스템 구축 완료  2024.01.15. 오전 10:38   \n54                샌즈랩 컨소시엄, KISA 사이버보안 AI 데이터셋 구축 완료  2024.01.15. 오전 11:29   \n..                                               ...                   ...   \n60              \"올해는 글로벌 R&D 혁신 원년\"…1.8조 투입하고 특위도 신설  2024.01.17. 오후 12:02   \n83                     순천시, 이웃이 이웃을 돌보는 생활밀착 돌봄체계 구축   2024.01.17. 오후 1:22   \n71                               순천시, ‘생활밀착 돌봄체계’ 구축   2024.01.17. 오후 1:56   \n98                    과기정통부, 글로벌 R&D 1조 8167억 투입 총력전   2024.01.17. 오후 1:57   \n80          9000개 거래소 이동 소식에 간밤에 롤러코스터 탄 비트코인[코인브리핑]   2024.01.17. 오후 2:17   \n\n                                              document  \\\n111  통신요금 적게 쓰면 다음달 요금제 하향 추천…최대 3만4천800원토스모바일[토스모바...   \n13   작년 12월 '2023년 데이터통합 툴 분야'서 아너러블 벤더로 이름 올려데이터스트...   \n114  판교·수원·평택, R&D·교육 거점…\"저전력으로 엔비디아 능가\"4년간 연구자 2천 ...   \n47   해양엔지니어링 기업인 제이제이앤컴퍼니스(대표 전정호)가 인공지능을 활용한 ‘수중 생...   \n54   위협 인텔리전스 데이터셋의 구성 / 사진제공=샌즈랩사이버 위협 인텔리전스 전문기업 ...   \n..                                                 ...   \n60   시스템 혁신·국내 연구자 역량 강화·생태계 조성 등 3개 방향 추진글로벌 R&D 연...   \n83   AI 안부전화·초기상담, ICT로 돌봄 일상화…배려돌봄 넘어 정서돌봄·관계돌봄 확장...   \n71   순천시 야경 모습 =순천시 제공[스포츠서울/조광태기자] 전남 순천시(노관규 순천시장...   \n98   - 글로벌 R&D 특별위원회 신설, 가이드라인 마련 등 본격 추진정부출연연구기관 연...   \n80   비트코인 현물 ETF 거래 이후 그레이스케일서 다량의 자산 유출네트워크 거래량 최대...   \n\n                                                  link   press category  \n111  https://n.news.naver.com/mnews/article/001/001...    연합뉴스    IT/과학  \n13   https://n.news.naver.com/mnews/article/092/000...  지디넷코리아    IT/과학  \n114  https://n.news.naver.com/mnews/article/001/001...    연합뉴스    IT/과학  \n47   https://n.news.naver.com/mnews/article/015/000...    한국경제       경제  \n54   https://n.news.naver.com/mnews/article/008/000...   머니투데이    IT/과학  \n..                                                 ...     ...      ...  \n60   https://n.news.naver.com/mnews/article/003/001...     뉴시스    IT/과학  \n83   https://n.news.naver.com/mnews/article/008/000...   머니투데이       사회  \n71   https://n.news.naver.com/mnews/article/468/000...   스포츠서울       사회  \n98   https://n.news.naver.com/mnews/article/016/000...   헤럴드경제    IT/과학  \n80   https://n.news.naver.com/mnews/article/421/000...     뉴스1       경제  \n\n[119 rows x 6 columns]",
      "text/html": "<div>\n<style scoped>\n    .dataframe tbody tr th:only-of-type {\n        vertical-align: middle;\n    }\n\n    .dataframe tbody tr th {\n        vertical-align: top;\n    }\n\n    .dataframe thead th {\n        text-align: right;\n    }\n</style>\n<table border=\"1\" class=\"dataframe\">\n  <thead>\n    <tr style=\"text-align: right;\">\n      <th></th>\n      <th>title</th>\n      <th>date</th>\n      <th>document</th>\n      <th>link</th>\n      <th>press</th>\n      <th>category</th>\n    </tr>\n  </thead>\n  <tbody>\n    <tr>\n      <th>111</th>\n      <td>토스모바일, 업계 최초 '사용량 맞춤 요금제' 출시</td>\n      <td>2024.01.15. 오전 10:16</td>\n      <td>통신요금 적게 쓰면 다음달 요금제 하향 추천…최대 3만4천800원토스모바일[토스모바...</td>\n      <td>https://n.news.naver.com/mnews/article/001/001...</td>\n      <td>연합뉴스</td>\n      <td>IT/과학</td>\n    </tr>\n    <tr>\n      <th>13</th>\n      <td>데이터스트림즈, 가트너 매직쿼드런트 또 등재</td>\n      <td>2024.01.15. 오전 10:23</td>\n      <td>작년 12월 '2023년 데이터통합 툴 분야'서 아너러블 벤더로 이름 올려데이터스트...</td>\n      <td>https://n.news.naver.com/mnews/article/092/000...</td>\n      <td>지디넷코리아</td>\n      <td>IT/과학</td>\n    </tr>\n    <tr>\n      <th>114</th>\n      <td>\"AI반도체 1등\"…판교 R&amp;D 허브 조성·연구인력 2배 이상 확충</td>\n      <td>2024.01.15. 오전 10:35</td>\n      <td>판교·수원·평택, R&amp;D·교육 거점…\"저전력으로 엔비디아 능가\"4년간 연구자 2천 ...</td>\n      <td>https://n.news.naver.com/mnews/article/001/001...</td>\n      <td>연합뉴스</td>\n      <td>IT/과학</td>\n    </tr>\n    <tr>\n      <th>47</th>\n      <td>제이제이앤컴퍼니스, 낙동강 어도(Fishway) 수중 생태환경 분석 시스템 구축 완료</td>\n      <td>2024.01.15. 오전 10:38</td>\n      <td>해양엔지니어링 기업인 제이제이앤컴퍼니스(대표 전정호)가 인공지능을 활용한 ‘수중 생...</td>\n      <td>https://n.news.naver.com/mnews/article/015/000...</td>\n      <td>한국경제</td>\n      <td>경제</td>\n    </tr>\n    <tr>\n      <th>54</th>\n      <td>샌즈랩 컨소시엄, KISA 사이버보안 AI 데이터셋 구축 완료</td>\n      <td>2024.01.15. 오전 11:29</td>\n      <td>위협 인텔리전스 데이터셋의 구성 / 사진제공=샌즈랩사이버 위협 인텔리전스 전문기업 ...</td>\n      <td>https://n.news.naver.com/mnews/article/008/000...</td>\n      <td>머니투데이</td>\n      <td>IT/과학</td>\n    </tr>\n    <tr>\n      <th>...</th>\n      <td>...</td>\n      <td>...</td>\n      <td>...</td>\n      <td>...</td>\n      <td>...</td>\n      <td>...</td>\n    </tr>\n    <tr>\n      <th>60</th>\n      <td>\"올해는 글로벌 R&amp;D 혁신 원년\"…1.8조 투입하고 특위도 신설</td>\n      <td>2024.01.17. 오후 12:02</td>\n      <td>시스템 혁신·국내 연구자 역량 강화·생태계 조성 등 3개 방향 추진글로벌 R&amp;D 연...</td>\n      <td>https://n.news.naver.com/mnews/article/003/001...</td>\n      <td>뉴시스</td>\n      <td>IT/과학</td>\n    </tr>\n    <tr>\n      <th>83</th>\n      <td>순천시, 이웃이 이웃을 돌보는 생활밀착 돌봄체계 구축</td>\n      <td>2024.01.17. 오후 1:22</td>\n      <td>AI 안부전화·초기상담, ICT로 돌봄 일상화…배려돌봄 넘어 정서돌봄·관계돌봄 확장...</td>\n      <td>https://n.news.naver.com/mnews/article/008/000...</td>\n      <td>머니투데이</td>\n      <td>사회</td>\n    </tr>\n    <tr>\n      <th>71</th>\n      <td>순천시, ‘생활밀착 돌봄체계’ 구축</td>\n      <td>2024.01.17. 오후 1:56</td>\n      <td>순천시 야경 모습 =순천시 제공[스포츠서울/조광태기자] 전남 순천시(노관규 순천시장...</td>\n      <td>https://n.news.naver.com/mnews/article/468/000...</td>\n      <td>스포츠서울</td>\n      <td>사회</td>\n    </tr>\n    <tr>\n      <th>98</th>\n      <td>과기정통부, 글로벌 R&amp;D 1조 8167억 투입 총력전</td>\n      <td>2024.01.17. 오후 1:57</td>\n      <td>- 글로벌 R&amp;D 특별위원회 신설, 가이드라인 마련 등 본격 추진정부출연연구기관 연...</td>\n      <td>https://n.news.naver.com/mnews/article/016/000...</td>\n      <td>헤럴드경제</td>\n      <td>IT/과학</td>\n    </tr>\n    <tr>\n      <th>80</th>\n      <td>9000개 거래소 이동 소식에 간밤에 롤러코스터 탄 비트코인[코인브리핑]</td>\n      <td>2024.01.17. 오후 2:17</td>\n      <td>비트코인 현물 ETF 거래 이후 그레이스케일서 다량의 자산 유출네트워크 거래량 최대...</td>\n      <td>https://n.news.naver.com/mnews/article/421/000...</td>\n      <td>뉴스1</td>\n      <td>경제</td>\n    </tr>\n  </tbody>\n</table>\n<p>119 rows × 6 columns</p>\n</div>"
     },
     "execution_count": 8,
     "metadata": {},
     "output_type": "execute_result"
    }
   ],
   "source": [
    "article_df.sort_values(by='date', ascending=True)"
   ],
   "metadata": {
    "collapsed": false,
    "ExecuteTime": {
     "end_time": "2024-01-17T06:01:34.835084Z",
     "start_time": "2024-01-17T06:01:34.819484Z"
    }
   },
   "id": "fe02bab372bc9de0",
   "execution_count": 8
  },
  {
   "cell_type": "code",
   "outputs": [
    {
     "data": {
      "text/plain": "0"
     },
     "execution_count": 9,
     "metadata": {},
     "output_type": "execute_result"
    }
   ],
   "source": [
    "article_df.category.isna().sum()\n",
    "# 카테고리 분류가 제대로 되지 않은 뉴스 기사는 없다."
   ],
   "metadata": {
    "collapsed": false,
    "ExecuteTime": {
     "end_time": "2024-01-17T06:01:34.835540Z",
     "start_time": "2024-01-17T06:01:34.827968Z"
    }
   },
   "id": "72a2ac0bdf83eaf",
   "execution_count": 9
  },
  {
   "cell_type": "code",
   "outputs": [
    {
     "data": {
      "text/plain": "714"
     },
     "execution_count": 10,
     "metadata": {},
     "output_type": "execute_result"
    }
   ],
   "source": [
    "article_df.count().sum()\n",
    "# 792개의 기사가 있다."
   ],
   "metadata": {
    "collapsed": false,
    "ExecuteTime": {
     "end_time": "2024-01-17T06:01:34.837427Z",
     "start_time": "2024-01-17T06:01:34.833440Z"
    }
   },
   "id": "768f9062769f768f",
   "execution_count": 10
  },
  {
   "cell_type": "code",
   "outputs": [],
   "source": [],
   "metadata": {
    "collapsed": false,
    "ExecuteTime": {
     "end_time": "2024-01-17T06:01:34.842976Z",
     "start_time": "2024-01-17T06:01:34.836585Z"
    }
   },
   "id": "17349cbce6f6e39d",
   "execution_count": 10
  }
 ],
 "metadata": {
  "kernelspec": {
   "display_name": "Python 3",
   "language": "python",
   "name": "python3"
  },
  "language_info": {
   "codemirror_mode": {
    "name": "ipython",
    "version": 2
   },
   "file_extension": ".py",
   "mimetype": "text/x-python",
   "name": "python",
   "nbconvert_exporter": "python",
   "pygments_lexer": "ipython2",
   "version": "2.7.6"
  }
 },
 "nbformat": 4,
 "nbformat_minor": 5
}
